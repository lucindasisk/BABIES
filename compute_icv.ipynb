{
 "cells": [
  {
   "cell_type": "code",
   "execution_count": 70,
   "metadata": {},
   "outputs": [],
   "source": [
    "from numpy import sum\n",
    "from nibabel import load\n",
    "from glob import glob\n",
    "from pandas import Series, DataFrame\n",
    "from datetime import date\n",
    "from os import path\n",
    "from nipype.interfaces import freesurfer as fs"
   ]
  },
  {
   "cell_type": "code",
   "execution_count": 71,
   "metadata": {},
   "outputs": [],
   "source": [
    "home = '/Volumes/iang/active/BABIES/BABIES_ibeat/processed_brains/BABIES_LT2'\n",
    "infiles = home + '/processed_T2w'\n",
    "subs = Series(glob(infiles + '/*-skullstripped_anat.nii')).str.replace(infiles + '/',\"\").sort_values().str.rstrip('-skullstripped_anat.nii')\n",
    "output = home +'/binarized_masks'"
   ]
  },
  {
   "cell_type": "code",
   "execution_count": 83,
   "metadata": {},
   "outputs": [],
   "source": [
    "def count_voxels(data):\n",
    "    num_vox = sum(data.get_data() > 0)\n",
    "    return num_vox"
   ]
  },
  {
   "cell_type": "code",
   "execution_count": 93,
   "metadata": {},
   "outputs": [
    {
     "name": "stdout",
     "output_type": "stream",
     "text": [
      "Mask already created for 1005\n",
      "Mask already created for 1010\n",
      "Mask already created for 1011\n",
      "Mask already created for 1017\n",
      "Mask already created for 1020\n",
      "Mask already created for 1023\n",
      "Mask already created for 1027\n",
      "Mask already created for 1028\n",
      "Mask already created for 1033\n",
      "Mask already created for 1036\n",
      "Mask already created for 1037\n",
      "Mask already created for 1038\n",
      "Mask already created for 1042\n",
      "Mask already created for 1043\n",
      "Mask already created for 1050\n",
      "Mask already created for 1053\n",
      "Mask already created for 1057\n",
      "Mask already created for 1060\n",
      "Mask already created for 1068\n",
      "Mask already created for 1069\n",
      "Mask already created for 1071\n",
      "Mask already created for 1078\n"
     ]
    }
   ],
   "source": [
    "for sub in subs:\n",
    "    if path.exists(output + '/' + sub+'-skullstripped_anat_mask.nii'):\n",
    "        print(\"Mask already created for {}\".format(sub))\n",
    "    else:\n",
    "        binvol = fs.Binarize(in_file = infiles + '/' +sub +'-skullstripped_anat.nii',\n",
    "                             min=0,\n",
    "                             max = 1,\n",
    "                             invert = True,\n",
    "                             binary_file= output + '/' + sub+'-skullstripped_anat_mask.nii')\n",
    "        binvol.run()"
   ]
  },
  {
   "cell_type": "code",
   "execution_count": 98,
   "metadata": {},
   "outputs": [],
   "source": [
    "final = DataFrame(columns = ['ID', 'ICV (mm^3)'])\n",
    "\n",
    "for sub in subs:\n",
    "    data = load(output+'/' +sub+'-skullstripped_anat_mask.nii')\n",
    "    vox_count = count_voxels(data)\n",
    "    results = Series([sub, vox_count], index = ['ID', 'ICV (mm^3)'])\n",
    "    final = final.append(results, ignore_index = True)  \n"
   ]
  },
  {
   "cell_type": "code",
   "execution_count": 99,
   "metadata": {},
   "outputs": [],
   "source": [
    "today = str(date.today())\n",
    "final.to_csv(home+'/Newborn_ICV_'+today+'.csv')"
   ]
  },
  {
   "cell_type": "code",
   "execution_count": null,
   "metadata": {
    "collapsed": true
   },
   "outputs": [],
   "source": []
  }
 ],
 "metadata": {
  "kernelspec": {
   "display_name": "Python 3",
   "language": "python",
   "name": "python3"
  },
  "language_info": {
   "codemirror_mode": {
    "name": "ipython",
    "version": 3
   },
   "file_extension": ".py",
   "mimetype": "text/x-python",
   "name": "python",
   "nbconvert_exporter": "python",
   "pygments_lexer": "ipython3",
   "version": "3.6.4"
  }
 },
 "nbformat": 4,
 "nbformat_minor": 2
}
