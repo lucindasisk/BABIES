{
 "cells": [
  {
   "cell_type": "code",
   "execution_count": 1,
   "metadata": {},
   "outputs": [
    {
     "name": "stderr",
     "output_type": "stream",
     "text": [
      "/usr/local/anaconda3/lib/python3.6/importlib/_bootstrap.py:219: RuntimeWarning: numpy.dtype size changed, may indicate binary incompatibility. Expected 96, got 88\n",
      "  return f(*args, **kwds)\n",
      "/usr/local/anaconda3/lib/python3.6/site-packages/h5py/__init__.py:36: FutureWarning: Conversion of the second argument of issubdtype from `float` to `np.floating` is deprecated. In future, it will be treated as `np.float64 == np.dtype(float).type`.\n",
      "  from ._conv import register_converters as _register_converters\n"
     ]
    }
   ],
   "source": [
    "from nibabel import load\n",
    "from numpy import shape\n",
    "import os\n",
    "import glob\n",
    "import pandas as pd\n",
    "from shutil import copyfile\n",
    "import nipype.pipeline.engine as pe\n",
    "from nipype.interfaces import fsl"
   ]
  },
  {
   "cell_type": "code",
   "execution_count": 2,
   "metadata": {},
   "outputs": [],
   "source": [
    "fp = '/Volumes/iang/active/BABIES/BABIES_Longitudinal/BABIES_Longitudinal-T2'\n",
    "home = '/Volumes/iang/active/BABIES/BABIES_diffusion/subjsDir/'\n",
    "destfp = '/Volumes/iang/active/BABIES/BABIES_diffusion/subjsDir/Newborn'\n",
    "params = home + 'acq_params.txt'\n",
    "index = home + 'index.txt'\n",
    "index104 = home + 'index104.txt'\n",
    "index105 = home + 'index105.txt'\n",
    "index1 = pd.read_csv(home + 'index105.txt', sep = \" \", header = None)"
   ]
  },
  {
   "cell_type": "code",
   "execution_count": 32,
   "metadata": {},
   "outputs": [
    {
     "name": "stdout",
     "output_type": "stream",
     "text": [
      "Please enter IDs for subs you wish to run:  1005-L-T2\n"
     ]
    }
   ],
   "source": [
    "sub = input('Please enter IDs for subs you wish to run:  ')\n",
    "\n",
    "dest = destfp + '/' + sub + '/'\n",
    "pe1_nii = destfp + '/' + sub + '/raw/DTI_pe1.nii.gz'\n",
    "pe1_bvec = destfp + '/' + sub + '/raw/DTI_pe1.bvec'\n",
    "pe1_bval = destfp + '/' + sub + '/raw/DTI_pe1.bval'\n",
    "pe0_nii = destfp + '/' + sub + '/raw/DTI_pe0_ms103.nii.gz'\n",
    "pe0_bvec = destfp + '/' + sub + '/raw/DTI_pe0_ms103.bvec'\n",
    "pe0_bval = destfp + '/' + sub + '/raw/DTI_pe0_ms103.bval'\n"
   ]
  },
  {
   "cell_type": "code",
   "execution_count": 33,
   "metadata": {},
   "outputs": [
    {
     "name": "stdout",
     "output_type": "stream",
     "text": [
      "SUBID 1005-L-T2: Number of entries in bvec: 106, length of index: 105, nifti dimensions: (100, 100, 48, 104)\n"
     ]
    }
   ],
   "source": [
    "def check_bvecs(file):\n",
    "    bvec_pe0 = pd.read_csv(dest + 'raw/DTI_pe0_ms103.bvec', sep = ' ', header = None)\n",
    "    nifti_pe0 = load(file)\n",
    "    index1 = pd.read_csv(home + 'index105.txt', sep = ' ', header = None)\n",
    "    bv1 = len(bvec_pe0.columns)\n",
    "    in1 = len(index1)\n",
    "    ni1 = nifti_pe0.shape\n",
    "    return 'SUBID {}: Number of entries in bvec: {}, length of index: {}, nifti dimensions: {}'.format(sub, bv1, in1, ni1)\n",
    "\n",
    "output = check_bvecs(dest +'raw/DTI_pe0_ms103.nii.gz')\n",
    "print(output)\n",
    "\n",
    "#file = open(dest + \"info.txt\",\"w\")\n",
    "# file.write(output)\n",
    "# file.close()"
   ]
  },
  {
   "cell_type": "code",
   "execution_count": 40,
   "metadata": {},
   "outputs": [],
   "source": [
    "def add_b0_bvec():\n",
    "    bvec = pd.read_csv(dest + 'raw/DTI_pe0_ms103.bvec', sep = ' ', header = None)\n",
    "    idx = 0\n",
    "    new_col = [0.0, 0.0, 0.0]  # can be a list, a Series, an array or a scalar   \n",
    "    bvec.insert(loc=idx, column='0.0', value=new_col)\n",
    "    #os.rename(dest + 'raw/DTI_pe0_ms103.bvec', dest + 'raw/DTI_pe0_ms103_RAW.bvec')\n",
    "    bvec.to_csv(dest + 'raw/DTI_pe0_ms103.bvec', header = None, index = False, sep = ' ', index_label=False)"
   ]
  },
  {
   "cell_type": "code",
   "execution_count": 41,
   "metadata": {},
   "outputs": [],
   "source": [
    "def fix_b0_nifti():\n",
    "    fslroi = fsl.ExtractROI(in_file = pe0_nii, t_min = 0, t_size = 1, roi_file = dest + 'b0vol.nii.gz')\n",
    "    fslroi.run()\n",
    "    fslmerge = fsl.Merge(in_files = [dest + 'b0vol.nii.gz', pe0_nii], dimension = 't', merged_file = dest + '/raw/DTI_pe0_ms103_105.nii.gz')\n",
    "    fslmerge.run()\n",
    "    "
   ]
  },
  {
   "cell_type": "code",
   "execution_count": 44,
   "metadata": {},
   "outputs": [
    {
     "name": "stdout",
     "output_type": "stream",
     "text": [
      "Do the nifti and bvec file contain 104 volumes instead of 105? Enter Yes or No:  Yes\n",
      "Adding an additional column to .bvec file ....   \n",
      "Performing final check ....   \n",
      "   \n",
      "SUBID 1005-L-T2: Number of entries in bvec: 105, length of index: 105, nifti dimensions: (100, 100, 48, 105)\n",
      "   \n"
     ]
    }
   ],
   "source": [
    "bvec_len = input('Do the nifti and bvec file contain 104 volumes instead of 105? Enter Yes or No:  ')\n",
    "if bvec_len == 'Yes':\n",
    "    print('Adding an additional column to .bvec file ....   ')\n",
    "    add_b0_bvec()\n",
    "#     print('Adding an additional b0 vol to pe0 nifti ....   ')\n",
    "#     fix_b0_nifti()\n",
    "    print('Performing final check ....   ')\n",
    "    finalout = check_bvecs(dest +'raw/DTI_pe0_ms103_105.nii.gz')\n",
    "    print('   ')\n",
    "    print(finalout)\n",
    "    print('   ')\n",
    "elif bvec_len == 'No':\n",
    "    print('If they have 105 vols, you should be good to go!  ')\n",
    "else:\n",
    "    print('Sorry, please try again and enter Yes or No.  ')\n",
    "   "
   ]
  },
  {
   "cell_type": "code",
   "execution_count": 43,
   "metadata": {},
   "outputs": [
    {
     "name": "stdout",
     "output_type": "stream",
     "text": [
      "SUBID 1005-L-T2: Number of entries in bvec: 107, length of index: 105, nifti dimensions: (100, 100, 48, 105)\n"
     ]
    }
   ],
   "source": [
    "finalout = check_bvecs(dest +'raw/DTI_pe0_ms103_105.nii.gz')\n",
    "print(finalout)"
   ]
  },
  {
   "cell_type": "code",
   "execution_count": 46,
   "metadata": {},
   "outputs": [
    {
     "name": "stdout",
     "output_type": "stream",
     "text": [
      "Are bvec, index, and nifti all now 105? Enter Yes or No:  Yes\n",
      "Great! Renaming files ....   \n",
      "Check completed! \n"
     ]
    }
   ],
   "source": [
    "finalq = input('Are bvec, index, and nifti all now 105? Enter Yes or No:  ')\n",
    "if finalq == 'Yes':\n",
    "    print('Great! Renaming files ....   ')\n",
    "    os.rename(pe0_nii, dest +'raw/DTI_pe0_ms103_RAW.nii.gz')\n",
    "    os.rename(dest +'raw/DTI_pe0_ms103_105.nii.gz', dest +'raw/DTI_pe0_ms103.nii.gz')\n",
    "    print('Check completed! ')\n",
    "elif bvec_len == 'No':\n",
    "    print('Hmm. Something went wrong. Please check your files and try again.')\n",
    "else:\n",
    "    print('Sorry, please try again and enter Yes or No.  ')"
   ]
  },
  {
   "cell_type": "code",
   "execution_count": null,
   "metadata": {},
   "outputs": [],
   "source": []
  }
 ],
 "metadata": {
  "kernelspec": {
   "display_name": "Python 3",
   "language": "python",
   "name": "python3"
  },
  "language_info": {
   "codemirror_mode": {
    "name": "ipython",
    "version": 3
   },
   "file_extension": ".py",
   "mimetype": "text/x-python",
   "name": "python",
   "nbconvert_exporter": "python",
   "pygments_lexer": "ipython3",
   "version": "3.6.4"
  }
 },
 "nbformat": 4,
 "nbformat_minor": 2
}
