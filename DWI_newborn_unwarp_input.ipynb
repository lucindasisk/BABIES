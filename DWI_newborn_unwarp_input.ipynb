{
 "cells": [
  {
   "cell_type": "code",
   "execution_count": 1,
   "metadata": {},
   "outputs": [
    {
     "name": "stderr",
     "output_type": "stream",
     "text": [
      "/usr/local/anaconda3/lib/python3.6/importlib/_bootstrap.py:219: RuntimeWarning: numpy.dtype size changed, may indicate binary incompatibility. Expected 96, got 88\n",
      "  return f(*args, **kwds)\n",
      "/usr/local/anaconda3/lib/python3.6/site-packages/h5py/__init__.py:36: FutureWarning: Conversion of the second argument of issubdtype from `float` to `np.floating` is deprecated. In future, it will be treated as `np.float64 == np.dtype(float).type`.\n",
      "  from ._conv import register_converters as _register_converters\n"
     ]
    }
   ],
   "source": [
    "from nibabel import load\n",
    "from numpy import shape\n",
    "import os\n",
    "import glob\n",
    "import pandas as pd\n",
    "from shutil import copyfile\n",
    "import nipype.pipeline.engine as pe\n",
    "from nipype.interfaces import fsl"
   ]
  },
  {
   "cell_type": "code",
   "execution_count": 2,
   "metadata": {},
   "outputs": [],
   "source": [
    "#Set filepaths and variables\n",
    "fp = '/Volumes/iang/active/BABIES/BABIES_Longitudinal/BABIES_Longitudinal-T2'\n",
    "home = '/Volumes/iang/active/BABIES/BABIES_diffusion/subjsDir/'\n",
    "destfp = '/Volumes/iang/active/BABIES/BABIES_diffusion/subjsDir/Newborn'\n",
    "params = home + 'acq_params.txt'\n",
    "index = home + 'index105.txt'\n",
    "index104 = home + 'index104.txt'\n",
    "index105 = home + 'index105.txt'\n",
    "index1 = pd.read_csv(home + 'index105.txt', sep = \" \", header = None)\n",
    "workflow_dir = '/Volumes/iang/active/BABIES/BABIES_diffusion/workflows'"
   ]
  },
  {
   "cell_type": "code",
   "execution_count": 3,
   "metadata": {},
   "outputs": [
    {
     "name": "stdout",
     "output_type": "stream",
     "text": [
      "Please enter IDs for subs you wish to run:  1010-l-T2\n"
     ]
    }
   ],
   "source": [
    "sub = input('Please enter IDs for subs you wish to run:  ')\n",
    "\n",
    "dest = destfp + '/' + sub + '/'\n",
    "pe1_nii = destfp + '/' + sub + '/raw/DTI_pe1.nii.gz'\n",
    "pe1_bvec = destfp + '/' + sub + '/raw/DTI_pe1.bvec'\n",
    "pe1_bval = destfp + '/' + sub + '/raw/DTI_pe1.bval'\n",
    "pe0_nii = destfp + '/' + sub + '/raw/DTI_pe0_ms103.nii.gz'\n",
    "pe0_bvec = destfp + '/' + sub + '/raw/DTI_pe0_ms103.bvec'\n",
    "pe0_bval = destfp + '/' + sub + '/raw/DTI_pe0_ms103.bval'\n"
   ]
  },
  {
   "cell_type": "code",
   "execution_count": 4,
   "metadata": {},
   "outputs": [
    {
     "name": "stdout",
     "output_type": "stream",
     "text": [
      "SUBID 1010-l-T2: Number of entries in bvec: 105, length of bval: 105 length of index: 105, nifti dimensions: (100, 100, 48, 105)\n"
     ]
    }
   ],
   "source": [
    "def check_bvecs(file):\n",
    "    bvec_pe0 = pd.read_csv(dest + 'raw/DTI_pe0_ms103.bvec', sep = ' ', header = None)\n",
    "    bval_pe0 = pd.read_csv(dest + 'raw/DTI_pe0_ms103.bval', sep = ' ', header = None)\n",
    "    nifti_pe0 = load(file)\n",
    "    index1 = pd.read_csv(home + 'index105.txt', sep = ' ', header = None)\n",
    "    bv1 = len(bvec_pe0.columns)\n",
    "    bv2 = bval_pe0.size\n",
    "    in1 = len(index1)\n",
    "    ni1 = nifti_pe0.shape\n",
    "    return 'SUBID {}: Number of entries in bvec: {}, length of bval: {} length of index: {}, nifti dimensions: {}'.format(sub, bv1, bv2, in1, ni1)\n",
    "\n",
    "output = check_bvecs(dest +'raw/DTI_pe0_ms103.nii.gz')\n",
    "print(output)\n",
    "\n",
    "file = open(dest + \"info.txt\",\"w\")\n",
    "file.write(output)\n",
    "file.close()"
   ]
  },
  {
   "cell_type": "code",
   "execution_count": null,
   "metadata": {},
   "outputs": [],
   "source": [
    "print('Extracting ROIs for {}'.format(sub))\n",
    "fslroi = fsl.ExtractROI(in_file = pe0_nii, t_min = 0, t_size = 1, roi_file = dest + 'bu_pe0.nii.gz').run()\n",
    "fslroi2 = fsl.ExtractROI(in_file = pe1_nii, t_min = 0, t_size = 1, roi_file = dest + 'bd_pe1.nii.gz').run()"
   ]
  },
  {
   "cell_type": "code",
   "execution_count": null,
   "metadata": {},
   "outputs": [],
   "source": [
    "print('Working on merging files for {}'.format(sub))\n",
    "dest = destfp + '/' + sub + '/'\n",
    "fslmerge = fsl.Merge(in_files = [dest + 'bu_pe0.nii.gz', dest + 'bd_pe1.nii.gz'], dimension = 't', merged_file = dest + 'bud_nwf.nii.gz').run()\n"
   ]
  },
  {
   "cell_type": "code",
   "execution_count": null,
   "metadata": {},
   "outputs": [],
   "source": [
    "print('Working on topup for {}'.format(sub))\n",
    "dest = destfp + '/' + sub + '/'\n",
    "topup = fsl.TOPUP(in_file = dest + 'bud_nwf.nii.gz', encoding_file = params, config = 'b02b0.cnf', out_base = dest + 'DTI_topup_nwf').run()\n"
   ]
  },
  {
   "cell_type": "code",
   "execution_count": null,
   "metadata": {},
   "outputs": [],
   "source": [
    "output_nwf = check_bvecs(dest +'/DTI_pe0_unwarped_nwf.nii.gz')\n",
    "print(output_nwf)\n"
   ]
  },
  {
   "cell_type": "code",
   "execution_count": null,
   "metadata": {},
   "outputs": [],
   "source": [
    "print('Working on applying topup for {} pe1'.format(sub))\n",
    "dest = destfp + '/' + sub + '/'\n",
    "applytopup2 = fsl.ApplyTOPUP(encoding_file = params, in_files = [dest + 'raw/DTI_pe1.nii.gz'],\n",
    "                                                method = 'jac',\n",
    "                                                in_topup_fieldcoef = dest + 'DTI_topup_nwf_fieldcoef.nii.gz',\n",
    "                                                in_topup_movpar = dest + 'DTI_topup_nwf_movpar.txt',\n",
    "                                                in_index = [2],\n",
    "                                                out_corrected = dest + 'DTI_pe0_unwarped_nwf.nii.gz',\n",
    "                                                output_type = \"NIFTI_GZ\").run()\n"
   ]
  },
  {
   "cell_type": "code",
   "execution_count": 9,
   "metadata": {},
   "outputs": [
    {
     "name": "stdout",
     "output_type": "stream",
     "text": [
      "Working on applying topup for 1010-l-T2 pe0\n"
     ]
    }
   ],
   "source": [
    "print('Working on applying topup for {} pe0'.format(sub))\n",
    "dest = destfp + '/' + sub + '/'\n",
    "applytopup1 = fsl.ApplyTOPUP(encoding_file = params, in_files = [dest + 'raw/DTI_pe0_ms103.nii.gz'],\n",
    "                                                method = 'jac',\n",
    "                                                in_topup_fieldcoef = dest + 'DTI_topup_nwf_fieldcoef.nii.gz',\n",
    "                                                in_topup_movpar = dest + 'DTI_topup_nwf_movpar.txt',\n",
    "                                                in_index = [1],\n",
    "                                                out_corrected = dest + 'DTI_pe0_unwarped_nwf.nii.gz',\n",
    "                                                output_type = \"NIFTI_GZ\").run()\n"
   ]
  },
  {
   "cell_type": "code",
   "execution_count": null,
   "metadata": {},
   "outputs": [],
   "source": [
    "print('Working on skullstripping {} pe0'.format(sub))\n",
    "dest = destfp + '/' + sub + '/'\n",
    "bet = fsl.BET(in_file = dest + 'DTI_pe0_unwarped_nwf.nii.gz', mask = True, out_file = dest + 'DTI_pe0_unwarped_stripped.nii.gz').run()\n",
    "\n"
   ]
  },
  {
   "cell_type": "code",
   "execution_count": 8,
   "metadata": {},
   "outputs": [
    {
     "name": "stdout",
     "output_type": "stream",
     "text": [
      "Performing eddy correction for 1010-l-T2 pe0\n",
      "181004-17:42:57,580 nipype.interface INFO:\n",
      "\t stdout 2018-10-04T17:42:57.580132:eddy: msg=--index must be an 1xN or Nx1 matrix where N is the number of volumes in --imain\n",
      "181004-17:42:57,581 nipype.interface INFO:\n",
      "\t stdout 2018-10-04T17:42:57.581656:eddy: msg=Error when attempting to read --index file\n",
      "181004-17:42:57,582 nipype.interface INFO:\n",
      "\t stderr 2018-10-04T17:42:57.582455:libc++abi.dylib: terminating with uncaught exception of type EDDY::EddyException: eddy: msg=Error when attempting to read --index file\n"
     ]
    },
    {
     "ename": "RuntimeError",
     "evalue": "Command:\neddy --ff=10.0 --acqp=/Volumes/iang/active/BABIES/BABIES_diffusion/subjsDir/acq_params.txt --bvals=/Volumes/iang/active/BABIES/BABIES_diffusion/subjsDir/Newborn/1010-l-T2/raw/DTI_pe0_ms103.bval --bvecs=/Volumes/iang/active/BABIES/BABIES_diffusion/subjsDir/Newborn/1010-l-T2/raw/DTI_pe0_ms103_real.bvec --imain=/Volumes/iang/active/BABIES/BABIES_diffusion/subjsDir/Newborn/1010-l-T2/DTI_pe0_unwarped_nwf.nii.gz --index=/Volumes/iang/active/BABIES/BABIES_diffusion/subjsDir/index105.txt --mask=/Volumes/iang/active/BABIES/BABIES_diffusion/subjsDir/Newborn/1010-l-T2/DTI_pe0_unwarped_stripped_mask.nii.gz --niter=5 --nvoxhp=1000 --out=/Volumes/iang/active/BABIES/BABIES_diffusion/subjsDir/Newborn/1010-l-T2/DTI_unwarped_eddy\nStandard output:\neddy: msg=--index must be an 1xN or Nx1 matrix where N is the number of volumes in --imain\neddy: msg=Error when attempting to read --index file\nStandard error:\nlibc++abi.dylib: terminating with uncaught exception of type EDDY::EddyException: eddy: msg=Error when attempting to read --index file\nReturn code: -6",
     "output_type": "error",
     "traceback": [
      "\u001b[0;31m---------------------------------------------------------------------------\u001b[0m",
      "\u001b[0;31mRuntimeError\u001b[0m                              Traceback (most recent call last)",
      "\u001b[0;32m<ipython-input-8-e8f21cf7332e>\u001b[0m in \u001b[0;36m<module>\u001b[0;34m()\u001b[0m\n\u001b[1;32m      3\u001b[0m eddy = fsl.Eddy(in_file = dest + 'DTI_pe0_unwarped_nwf.nii.gz', in_acqp = params, in_bval = dest + 'raw/DTI_pe0_ms103.bval', in_bvec = dest + 'raw/DTI_pe0_ms103_real.bvec',\n\u001b[1;32m      4\u001b[0m                                         \u001b[0min_index\u001b[0m \u001b[0;34m=\u001b[0m \u001b[0mindex\u001b[0m\u001b[0;34m,\u001b[0m \u001b[0min_mask\u001b[0m \u001b[0;34m=\u001b[0m \u001b[0mdest\u001b[0m \u001b[0;34m+\u001b[0m \u001b[0;34m'DTI_pe0_unwarped_stripped_mask.nii.gz'\u001b[0m\u001b[0;34m,\u001b[0m\u001b[0;34m\u001b[0m\u001b[0m\n\u001b[0;32m----> 5\u001b[0;31m                                         out_base = dest + 'DTI_unwarped_eddy').run()\n\u001b[0m",
      "\u001b[0;32m/usr/local/anaconda3/lib/python3.6/site-packages/nipype/interfaces/base/core.py\u001b[0m in \u001b[0;36mrun\u001b[0;34m(self, cwd, ignore_exception, **inputs)\u001b[0m\n\u001b[1;32m    520\u001b[0m         \u001b[0;32mtry\u001b[0m\u001b[0;34m:\u001b[0m\u001b[0;34m\u001b[0m\u001b[0m\n\u001b[1;32m    521\u001b[0m             \u001b[0mruntime\u001b[0m \u001b[0;34m=\u001b[0m \u001b[0mself\u001b[0m\u001b[0;34m.\u001b[0m\u001b[0m_pre_run_hook\u001b[0m\u001b[0;34m(\u001b[0m\u001b[0mruntime\u001b[0m\u001b[0;34m)\u001b[0m\u001b[0;34m\u001b[0m\u001b[0m\n\u001b[0;32m--> 522\u001b[0;31m             \u001b[0mruntime\u001b[0m \u001b[0;34m=\u001b[0m \u001b[0mself\u001b[0m\u001b[0;34m.\u001b[0m\u001b[0m_run_interface\u001b[0m\u001b[0;34m(\u001b[0m\u001b[0mruntime\u001b[0m\u001b[0;34m)\u001b[0m\u001b[0;34m\u001b[0m\u001b[0m\n\u001b[0m\u001b[1;32m    523\u001b[0m             \u001b[0mruntime\u001b[0m \u001b[0;34m=\u001b[0m \u001b[0mself\u001b[0m\u001b[0;34m.\u001b[0m\u001b[0m_post_run_hook\u001b[0m\u001b[0;34m(\u001b[0m\u001b[0mruntime\u001b[0m\u001b[0;34m)\u001b[0m\u001b[0;34m\u001b[0m\u001b[0m\n\u001b[1;32m    524\u001b[0m             \u001b[0moutputs\u001b[0m \u001b[0;34m=\u001b[0m \u001b[0mself\u001b[0m\u001b[0;34m.\u001b[0m\u001b[0maggregate_outputs\u001b[0m\u001b[0;34m(\u001b[0m\u001b[0mruntime\u001b[0m\u001b[0;34m)\u001b[0m\u001b[0;34m\u001b[0m\u001b[0m\n",
      "\u001b[0;32m/usr/local/anaconda3/lib/python3.6/site-packages/nipype/interfaces/fsl/epi.py\u001b[0m in \u001b[0;36m_run_interface\u001b[0;34m(self, runtime)\u001b[0m\n\u001b[1;32m    756\u001b[0m                 not os.path.exists(os.path.join(FSLDIR, 'bin', cmd)))):\n\u001b[1;32m    757\u001b[0m             \u001b[0mself\u001b[0m\u001b[0;34m.\u001b[0m\u001b[0m_cmd\u001b[0m \u001b[0;34m=\u001b[0m \u001b[0;34m'eddy'\u001b[0m\u001b[0;34m\u001b[0m\u001b[0m\n\u001b[0;32m--> 758\u001b[0;31m         \u001b[0mruntime\u001b[0m \u001b[0;34m=\u001b[0m \u001b[0msuper\u001b[0m\u001b[0;34m(\u001b[0m\u001b[0mEddy\u001b[0m\u001b[0;34m,\u001b[0m \u001b[0mself\u001b[0m\u001b[0;34m)\u001b[0m\u001b[0;34m.\u001b[0m\u001b[0m_run_interface\u001b[0m\u001b[0;34m(\u001b[0m\u001b[0mruntime\u001b[0m\u001b[0;34m)\u001b[0m\u001b[0;34m\u001b[0m\u001b[0m\n\u001b[0m\u001b[1;32m    759\u001b[0m \u001b[0;34m\u001b[0m\u001b[0m\n\u001b[1;32m    760\u001b[0m         \u001b[0;31m# Restore command to avoid side-effects\u001b[0m\u001b[0;34m\u001b[0m\u001b[0;34m\u001b[0m\u001b[0m\n",
      "\u001b[0;32m/usr/local/anaconda3/lib/python3.6/site-packages/nipype/interfaces/base/core.py\u001b[0m in \u001b[0;36m_run_interface\u001b[0;34m(self, runtime, correct_return_codes)\u001b[0m\n\u001b[1;32m   1036\u001b[0m         \u001b[0;32mif\u001b[0m \u001b[0mruntime\u001b[0m\u001b[0;34m.\u001b[0m\u001b[0mreturncode\u001b[0m \u001b[0;32mis\u001b[0m \u001b[0;32mNone\u001b[0m \u001b[0;32mor\u001b[0m\u001b[0;31m \u001b[0m\u001b[0;31m\\\u001b[0m\u001b[0;34m\u001b[0m\u001b[0m\n\u001b[1;32m   1037\u001b[0m                 \u001b[0mruntime\u001b[0m\u001b[0;34m.\u001b[0m\u001b[0mreturncode\u001b[0m \u001b[0;32mnot\u001b[0m \u001b[0;32min\u001b[0m \u001b[0mcorrect_return_codes\u001b[0m\u001b[0;34m:\u001b[0m\u001b[0;34m\u001b[0m\u001b[0m\n\u001b[0;32m-> 1038\u001b[0;31m             \u001b[0mself\u001b[0m\u001b[0;34m.\u001b[0m\u001b[0mraise_exception\u001b[0m\u001b[0;34m(\u001b[0m\u001b[0mruntime\u001b[0m\u001b[0;34m)\u001b[0m\u001b[0;34m\u001b[0m\u001b[0m\n\u001b[0m\u001b[1;32m   1039\u001b[0m \u001b[0;34m\u001b[0m\u001b[0m\n\u001b[1;32m   1040\u001b[0m         \u001b[0;32mreturn\u001b[0m \u001b[0mruntime\u001b[0m\u001b[0;34m\u001b[0m\u001b[0m\n",
      "\u001b[0;32m/usr/local/anaconda3/lib/python3.6/site-packages/nipype/interfaces/base/core.py\u001b[0m in \u001b[0;36mraise_exception\u001b[0;34m(self, runtime)\u001b[0m\n\u001b[1;32m    973\u001b[0m             ('Command:\\n{cmdline}\\nStandard output:\\n{stdout}\\n'\n\u001b[1;32m    974\u001b[0m              \u001b[0;34m'Standard error:\\n{stderr}\\nReturn code: {returncode}'\u001b[0m\u001b[0;34m\u001b[0m\u001b[0m\n\u001b[0;32m--> 975\u001b[0;31m              ).format(**runtime.dictcopy()))\n\u001b[0m\u001b[1;32m    976\u001b[0m \u001b[0;34m\u001b[0m\u001b[0m\n\u001b[1;32m    977\u001b[0m     \u001b[0;32mdef\u001b[0m \u001b[0m_get_environ\u001b[0m\u001b[0;34m(\u001b[0m\u001b[0mself\u001b[0m\u001b[0;34m)\u001b[0m\u001b[0;34m:\u001b[0m\u001b[0;34m\u001b[0m\u001b[0m\n",
      "\u001b[0;31mRuntimeError\u001b[0m: Command:\neddy --ff=10.0 --acqp=/Volumes/iang/active/BABIES/BABIES_diffusion/subjsDir/acq_params.txt --bvals=/Volumes/iang/active/BABIES/BABIES_diffusion/subjsDir/Newborn/1010-l-T2/raw/DTI_pe0_ms103.bval --bvecs=/Volumes/iang/active/BABIES/BABIES_diffusion/subjsDir/Newborn/1010-l-T2/raw/DTI_pe0_ms103_real.bvec --imain=/Volumes/iang/active/BABIES/BABIES_diffusion/subjsDir/Newborn/1010-l-T2/DTI_pe0_unwarped_nwf.nii.gz --index=/Volumes/iang/active/BABIES/BABIES_diffusion/subjsDir/index105.txt --mask=/Volumes/iang/active/BABIES/BABIES_diffusion/subjsDir/Newborn/1010-l-T2/DTI_pe0_unwarped_stripped_mask.nii.gz --niter=5 --nvoxhp=1000 --out=/Volumes/iang/active/BABIES/BABIES_diffusion/subjsDir/Newborn/1010-l-T2/DTI_unwarped_eddy\nStandard output:\neddy: msg=--index must be an 1xN or Nx1 matrix where N is the number of volumes in --imain\neddy: msg=Error when attempting to read --index file\nStandard error:\nlibc++abi.dylib: terminating with uncaught exception of type EDDY::EddyException: eddy: msg=Error when attempting to read --index file\nReturn code: -6"
     ]
    }
   ],
   "source": [
    "print('Performing eddy correction for {} pe0'.format(sub))\n",
    "dest = destfp + '/' + sub + '/'\n",
    "eddy = fsl.Eddy(in_file = dest + 'DTI_pe0_unwarped_nwf.nii.gz', in_acqp = params, in_bval = dest + 'raw/DTI_pe0_ms103.bval', in_bvec = dest + 'raw/DTI_pe0_ms103_real.bvec',\n",
    "                                        in_index = index, in_mask = dest + 'DTI_pe0_unwarped_stripped_mask.nii.gz',\n",
    "                                        out_base = dest + 'DTI_unwarped_eddy').run()\n"
   ]
  },
  {
   "cell_type": "code",
   "execution_count": null,
   "metadata": {},
   "outputs": [],
   "source": [
    "check_bvecs(dest+'DTI_unwarped_eddy.nii.gz')\n",
    "print('Completed {}!'.format(sub))\n",
    "#### WORKFLOW ATTEMPTED BELOW"
   ]
  },
  {
   "cell_type": "code",
   "execution_count": null,
   "metadata": {},
   "outputs": [],
   "source": [
    "# for sub in ready_to_run:\n",
    "#     dest = destfp + '/' + sub + '/'\n",
    "#     pe1_nii = destfp + '/' + sub + '/raw/DTI_pe1.nii.gz'\n",
    "#     pe1_bvec = destfp + '/' + sub + '/raw/DTI_pe1.bvec'\n",
    "#     pe1_bval = destfp + '/' + sub + '/raw/DTI_pe1.bval'\n",
    "#     pe0_nii = destfp + '/' + sub + '/raw/DTI_pe0_ms103.nii.gz'\n",
    "#     pe0_bvec = destfp + '/' + sub + '/raw/DTI_pe0_ms103.bvec'\n",
    "#     pe0_bval = destfp + '/' + sub + '/raw/DTI_pe0_ms103.bval'\n",
    "#     fslroi = pe.MapNode(interface = fsl.ExtractROI(t_min = 0, t_size = 1),\n",
    "#                        name = 'fslroi',\n",
    "#                        iterfield = [\"in_file\"])\n",
    "#     fslroi.inputs.in_file = [pe1_nii, pe0_nii]\n",
    "#     fslroi.outputs.roi_file = [dest + 'bd_pe1.nii.gz', dest + 'bu_pe0.nii.gz']\n",
    "#     fslmerge = pe.Node(interface = fsl.Merge(dimension = 't', merged_file = dest + 'bud.nii.gz'), name = 'fslmerge')\n",
    "#     topup = pe.Node(interface = fsl.TOPUP(encoding_file = params, config = 'b02b0.cnf', out_base = dest + 'DTI_topup'),\n",
    "#                     name = 'topup')\n",
    "#     dest = destfp + '/' + sub + '/'\n",
    "#     anatflow_c = pe.Workflow(name = \"anatflow_c\")\n",
    "#     anatflow_c.connect([(fslroi, fslmerge, [('roi_file', 'in_files')]),\n",
    "#                         (fslmerge, topup, [('merged_file', 'in_file')])\n",
    "#                        ])\n",
    "#     anatflow_c.base_dir = workflow_dir\n",
    "#     anatflow_c.write_graph(graph2use = 'flat')\n",
    "#     anatflow_c.run('MultiProc', plugin_args={'n_procs': 1})\n",
    "# ready_to_run   "
   ]
  },
  {
   "cell_type": "code",
   "execution_count": null,
   "metadata": {},
   "outputs": [],
   "source": [
    "# for sub in ready_to_run:\n",
    "#     dest = destfp + '/' + sub + '/'\n",
    "#     pe1_nii = destfp + '/' + sub + '/raw/DTI_pe1.nii.gz'\n",
    "#     pe1_bvec = destfp + '/' + sub + '/raw/DTI_pe1.bvec'\n",
    "#     pe1_bval = destfp + '/' + sub + '/raw/DTI_pe1.bval'\n",
    "#     pe0_nii = destfp + '/' + sub + '/raw/DTI_pe0_ms103.nii.gz'\n",
    "#     pe0_bvec = destfp + '/' + sub + '/raw/DTI_pe0_ms103.bvec'\n",
    "#     pe0_bval = destfp + '/' + sub + '/raw/DTI_pe0_ms103.bval'\n",
    "#     applytopup = pe.Node(interface = fsl.ApplyTOPUP(encoding_file = params,\n",
    "#                                                     in_files = [pe0_nii],\n",
    "#                                                     method = 'jac',\n",
    "#                                                     in_topup_fieldcoef = dest + 'DTI_topup_fieldcoef.nii.gz',\n",
    "#                                                     in_topup_movpar = dest + 'DTI_topup_movpar.txt',\n",
    "#                                                     in_index = [1],\n",
    "#                                                     out_corrected = dest + 'DTI_pe0_unwarped.nii.gz',\n",
    "#                                                     output_type = \"NIFTI_GZ\"),\n",
    "#                             name = 'applytopup')\n",
    "#     #applytopup.outputs.out_corrected = dest + 'DTI_pe0_corrected.nii.gz'\n",
    "#     bet = pe.Node(interface = fsl.BET(mask = True, out_file = dest + 'DTI_pe0_unwarped_stripped.nii.gz'),\n",
    "#                   name = 'bet')\n",
    "#     init_proc_c=pe.Workflow(name=\"init_proc_c\")\n",
    "#     init_proc_c.connect([(applytopup, bet, [('out_corrected', 'in_file')])\n",
    "#                        ])\n",
    "#     init_proc_c.base_dir = workflow_dir\n",
    "#     init_proc_c.write_graph(graph2use = 'flat')\n",
    "#     init_proc_c.run('MultiProc', plugin_args={'n_procs': 1})\n"
   ]
  },
  {
   "cell_type": "code",
   "execution_count": null,
   "metadata": {},
   "outputs": [],
   "source": [
    "# for sub in ready_to_run:\n",
    "#     dest = destfp + '/' + sub + '/'\n",
    "#     pe1_nii = destfp + '/' + sub + '/raw/DTI_pe1.nii.gz'\n",
    "#     pe1_bvec = destfp + '/' + sub + '/raw/DTI_pe1.bvec'\n",
    "#     pe1_bval = destfp + '/' + sub + '/raw/DTI_pe1.bval'\n",
    "#     pe0_nii = destfp + '/' + sub + '/raw/DTI_pe0_ms103.nii.gz'\n",
    "#     pe0_bvec = destfp + '/' + sub + '/raw/DTI_pe0_ms103.bvec'\n",
    "#     pe0_bval = destfp + '/' + sub + '/raw/DTI_pe0_ms103.bval'\n",
    "#     applytopup = pe.Node(interface = fsl.ApplyTOPUP(encoding_file = params,\n",
    "#                                                     in_files = [pe0_nii],\n",
    "#                                                     method = 'jac',\n",
    "#                                                     in_topup_fieldcoef = dest + 'DTI_topup_fieldcoef.nii.gz',\n",
    "#                                                     in_topup_movpar = dest + 'DTI_topup_movpar.txt',\n",
    "#                                                     in_index = [1],\n",
    "#                                                     out_corrected = dest + 'DTI_pe0_unwarped.nii.gz',\n",
    "#                                                     output_type = \"NIFTI_GZ\"),\n",
    "#                             name = 'applytopup')\n",
    "#     eddy = pe.Node(interface = fsl.Eddy(in_acqp = params, in_bval = pe0_bval, in_bvec = dest + '/raw/DTI_pe0_ms103.bvec',\n",
    "#                                             in_index = index105, in_mask = dest + 'DTI_pe0_unwarped_stripped_mask.nii.gz',\n",
    "#                                             out_base = dest + 'DTI_unwarped_eddy'),\n",
    "#                                     name = 'eddy')\n",
    "\n",
    "#     eddyflow_c = pe.Workflow(name='eddyflow_c')\n",
    "#     eddyflow_c.connect([(applytopup, eddy, [('out_corrected', 'in_file')])\n",
    "#                      ])\n",
    "#     eddyflow_c.base_dir = workflow_dir\n",
    "#     eddyflow_c.run('MultiProc', plugin_args={'n_procs': 1})\n",
    "    "
   ]
  },
  {
   "cell_type": "code",
   "execution_count": null,
   "metadata": {},
   "outputs": [],
   "source": []
  }
 ],
 "metadata": {
  "kernelspec": {
   "display_name": "Python 3",
   "language": "python",
   "name": "python3"
  },
  "language_info": {
   "codemirror_mode": {
    "name": "ipython",
    "version": 3
   },
   "file_extension": ".py",
   "mimetype": "text/x-python",
   "name": "python",
   "nbconvert_exporter": "python",
   "pygments_lexer": "ipython3",
   "version": "3.6.4"
  }
 },
 "nbformat": 4,
 "nbformat_minor": 2
}
